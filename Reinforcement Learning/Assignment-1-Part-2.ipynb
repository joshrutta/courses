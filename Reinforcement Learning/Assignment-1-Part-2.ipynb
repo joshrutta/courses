{
 "cells": [
  {
   "cell_type": "markdown",
   "metadata": {},
   "source": [
    "# ELEN 6885 Reinforcement Learning coding assignment"
   ]
  },
  {
   "cell_type": "markdown",
   "metadata": {},
   "source": [
    "Your code should remain in the block marked by<br />\n",
    "\\############################<br />\n",
    "\\# YOUR CODE STARTS HERE<br />\n",
    "\\# YOUR CODE ENDS HERE<br />\n",
    "\\############################<br />\n",
    "Please don't edit anything outside the block."
   ]
  },
  {
   "cell_type": "code",
   "execution_count": 1,
   "metadata": {},
   "outputs": [],
   "source": [
    "%load_ext autoreload\n",
    "%autoreload 2\n",
    "import numpy as np\n",
    "import random\n",
    "import matplotlib.pyplot as plt\n",
    "import gym"
   ]
  },
  {
   "cell_type": "markdown",
   "metadata": {},
   "source": [
    "## 1. Incremental Implementation of Average\n",
    "We've finished the incremental implementation of average for you. Please call the function estimate with 1/step step size and fixed step size to compare the difference between this two on a simulated Bandit problem.<br />\n",
    "<span style=\"color:red\">(2 pts)</span>"
   ]
  },
  {
   "cell_type": "code",
   "execution_count": 2,
   "metadata": {},
   "outputs": [
    {
     "name": "stdout",
     "output_type": "stream",
     "text": [
      "RLalgs is a package containing Reinforcement Learning algorithms Epsilon-Greedy, Policy Iteration, Value Iteration, Q-Learning, and SARSA.\n"
     ]
    }
   ],
   "source": [
    "from RLalgs.utils import estimate\n",
    "random.seed(6885)\n",
    "numTimeStep = 10000\n",
    "q_h = np.zeros(numTimeStep + 1) # Q Value estimate with 1/step step size\n",
    "q_f = np.zeros(numTimeStep + 1) # Q value estimate with fixed step size\n",
    "FixedStepSize = 0.5 #A large number to exaggerate the difference\n",
    "for step in range(1, numTimeStep + 1):\n",
    "    if step < numTimeStep / 2:\n",
    "        r = random.gauss(mu = 1, sigma = 0.1)\n",
    "    else:\n",
    "        r = random.gauss(mu = 3, sigma = 0.1)\n",
    "    \n",
    "    #TIPS: Call function estimate defined in ./RLalgs/utils.py\n",
    "    ############################\n",
    "    # YOUR CODE STARTS HERE\n",
    "    q_h[step] = estimate(q_h[step-1],1/step,r)\n",
    "    q_f[step] = estimate(q_f[step-1],FixedStepSize,r)\n",
    "    # YOUR CODE ENDS HERE\n",
    "    ############################\n",
    "    \n",
    "q_h = q_h[1:]\n",
    "q_f = q_f[1:]"
   ]
  },
  {
   "cell_type": "markdown",
   "metadata": {},
   "source": [
    "Plot the two Q value estimates. (Please include a title, labels on both axes, and legends)<br />\n",
    "<span style=\"color:red\">(3 pts)</span>"
   ]
  },
  {
   "cell_type": "code",
   "execution_count": 3,
   "metadata": {},
   "outputs": [
    {
     "data": {
      "image/png": "[encoded data removed]",
      "text/plain": [
       "<Figure size 432x288 with 1 Axes>"
      ]
     },
     "metadata": {
      "needs_background": "light"
     },
     "output_type": "display_data"
    }
   ],
   "source": [
    "############################\n",
    "# YOUR CODE STARTS HERE\n",
    "numTimeStep = 10000\n",
    "x = np.arange(numTimeStep)\n",
    "plt.plot(x,q_h,c='r',label='Q w/step size = 1/step')\n",
    "plt.plot(x,q_f,c='b',label='Q w/step size = 0.5')\n",
    "plt.xlabel('timestep')\n",
    "plt.ylabel('Q Value estimate')\n",
    "plt.legend()\n",
    "plt.show()\n",
    "# YOUR CODE ENDS HERE\n",
    "############################"
   ]
  },
  {
   "cell_type": "markdown",
   "metadata": {},
   "source": [
    "## 2. $\\epsilon$-Greedy for Exploration\n",
    "In Reinforcement Learning, we are always faced with the dilemma of exploration and exploitation. $\\epsilon$-Greedy is a trade-off between them. You are gonna implement Greedy and $\\epsilon$-Greedy. We combine these two policies in one function by treating Greedy as $\\epsilon$-Greedy where $\\epsilon = 0$. Edit the function epsilon_greedy in ./RLalgs/utils.py.<br />\n",
    "<span style=\"color:red\">(5 pts)</span>"
   ]
  },
  {
   "cell_type": "code",
   "execution_count": 4,
   "metadata": {},
   "outputs": [
    {
     "name": "stdout",
     "output_type": "stream",
     "text": [
      "Values:\n",
      "[ 0.61264537  0.27923079 -0.84600857  0.05469574 -1.09990968]\n",
      "Greedy Choice = 0\n",
      "Epsilon-Greedy Choice = 0\n"
     ]
    }
   ],
   "source": [
    "from RLalgs.utils import epsilon_greedy\n",
    "np.random.seed(6885) #Set the seed to cancel the randomness\n",
    "q = np.random.normal(0, 1, size = 5)\n",
    "############################\n",
    "# YOUR CODE STARTS HERE\n",
    "greedy_action = epsilon_greedy(q,0,seed = 6885) #Use epsilon = 0 for Greedy\n",
    "e_greedy_action = epsilon_greedy(q,0.1,seed = 6885) #Use epsilon = 0.1 and pass the parameter seed = 6885 to the function\n",
    "# YOUR CODE ENDS HERE\n",
    "############################\n",
    "print('Values:')\n",
    "print(q)\n",
    "print('Greedy Choice =', greedy_action)\n",
    "print('Epsilon-Greedy Choice =', e_greedy_action)"
   ]
  },
  {
   "cell_type": "markdown",
   "metadata": {},
   "source": [
    "You should get the following results.<br />\n",
    "Values:<br />\n",
    "\\[ 0.61264537  0.27923079 -0.84600857  0.05469574 -1.09990968\\]<br />\n",
    "Greedy Choice = 0<br />"
   ]
  },
  {
   "cell_type": "markdown",
   "metadata": {},
   "source": [
    "## 3. Frozen Lake Environment "
   ]
  },
  {
   "cell_type": "code",
   "execution_count": 5,
   "metadata": {},
   "outputs": [],
   "source": [
    "env = gym.make('FrozenLake-v0')"
   ]
  },
  {
   "cell_type": "markdown",
   "metadata": {},
   "source": [
    "### 3.1 Derive Q value from V value\n",
    "Edit function action_evaluation in ./RLalgs/utils.py.<br />\n",
    "TIPS: $q(s, a)=\\sum_{s',r}p(s',r|s,a)(r+\\gamma v(s'))$<br />\n",
    "<span style=\"color:red\">(5 pts)</span>"
   ]
  },
  {
   "cell_type": "code",
   "execution_count": 6,
   "metadata": {},
   "outputs": [
    {
     "name": "stdout",
     "output_type": "stream",
     "text": [
      "Action values:\n",
      "[[1.         1.         1.         1.        ]\n",
      " [1.         1.         1.         1.        ]\n",
      " [1.         1.         1.         1.        ]\n",
      " [1.         1.         1.         1.        ]\n",
      " [1.         1.         1.         1.        ]\n",
      " [1.         1.         1.         1.        ]\n",
      " [1.         1.         1.         1.        ]\n",
      " [1.         1.         1.         1.        ]\n",
      " [1.         1.         1.         1.        ]\n",
      " [1.         1.         1.         1.        ]\n",
      " [1.         1.         1.         1.        ]\n",
      " [1.         1.         1.         1.        ]\n",
      " [1.         1.         1.         1.        ]\n",
      " [1.         1.         1.         1.        ]\n",
      " [1.         1.33333333 1.33333333 1.33333333]\n",
      " [1.         1.         1.         1.        ]]\n"
     ]
    }
   ],
   "source": [
    "from RLalgs.utils import action_evaluation\n",
    "v = np.ones(16)\n",
    "q = action_evaluation(env = env.env, gamma = 1, v = v)\n",
    "print('Action values:')\n",
    "print(q)"
   ]
  },
  {
   "cell_type": "markdown",
   "metadata": {},
   "source": [
    "You should get Q values all equal to one except at State 14"
   ]
  },
  {
   "cell_type": "markdown",
   "metadata": {},
   "source": [
    "Pseudo-codes of the following four algorithms can be found on Page 80, 83, 130, 131 of the Sutton's book."
   ]
  },
  {
   "cell_type": "markdown",
   "metadata": {},
   "source": [
    "### 3.2 Model-based RL algorithms"
   ]
  },
  {
   "cell_type": "code",
   "execution_count": 7,
   "metadata": {},
   "outputs": [],
   "source": [
    "from RLalgs.utils import action_evaluation, action_selection, render"
   ]
  },
  {
   "cell_type": "markdown",
   "metadata": {},
   "source": [
    "### 3.2.1 Policy Iteration\n",
    "Edit the function policy_iteration and relevant functions in ./RLalgs/pi.py to implement the Policy Iteration Algorithm.<br />\n",
    "<span style=\"color:red\">(15 pts)</span>"
   ]
  },
  {
   "cell_type": "code",
   "execution_count": 8,
   "metadata": {},
   "outputs": [
    {
     "name": "stdout",
     "output_type": "stream",
     "text": [
      "State values:\n",
      "[0.82352709 0.82352631 0.82352576 0.82352547 0.82352726 0.\n",
      " 0.5294101  0.         0.82352758 0.82352804 0.76470468 0.\n",
      " 0.         0.88235197 0.94117597 0.        ]\n",
      "Number of iterations to converge = 7\n"
     ]
    }
   ],
   "source": [
    "from RLalgs.pi import policy_iteration\n",
    "V, policy, numIterations = policy_iteration(env = env.env, gamma = 1, max_iteration = 500, theta = 1e-7)\n",
    "print('State values:')\n",
    "print(V)\n",
    "print('Number of iterations to converge =', numIterations)"
   ]
  },
  {
   "cell_type": "markdown",
   "metadata": {},
   "source": [
    "You should get values close to:<br />\n",
    "State values:<br />\n",
    "\\[0.82352774 0.8235272  0.82352682 0.82352662 0.82352791 0.<br />\n",
    "0.52941063 0.         0.82352817 0.82352851 0.76470509 0.<br />0.         0.88235232 0.94117615 0.\\]"
   ]
  },
  {
   "cell_type": "code",
   "execution_count": 9,
   "metadata": {
    "scrolled": true
   },
   "outputs": [],
   "source": [
    "#Uncomment and run the following to evaluate your result, comment them when you generate the pdf\n",
    "# Q = action_evaluation(env = env.env, gamma = 1, v = V)\n",
    "# policy_estimate = action_selection(Q)\n",
    "# render(env, policy_estimate)"
   ]
  },
  {
   "cell_type": "markdown",
   "metadata": {},
   "source": [
    "### 3.2.2 Value Iteration\n",
    "Edit the function value_iteration and relevant functions in ./RLalgs/vi.py to implement the Value Iteration Algorithm.<br />\n",
    "<span style=\"color:red\">(10 pts)</span>"
   ]
  },
  {
   "cell_type": "code",
   "execution_count": 10,
   "metadata": {},
   "outputs": [
    {
     "name": "stdout",
     "output_type": "stream",
     "text": [
      "State values:\n",
      "[0.82352709 0.82352631 0.82352576 0.82352548 0.82352726 0.\n",
      " 0.52941011 0.         0.82352759 0.82352804 0.76470468 0.\n",
      " 0.         0.88235197 0.94117597 0.        ]\n",
      "Number of iterations to converge = 0\n"
     ]
    }
   ],
   "source": [
    "from RLalgs.vi import value_iteration\n",
    "V, policy, numIterations = value_iteration(env = env.env, gamma = 1, max_iteration = 500, theta = 1e-7)\n",
    "print('State values:')\n",
    "print(V)\n",
    "print('Number of iterations to converge =', numIterations)"
   ]
  },
  {
   "cell_type": "markdown",
   "metadata": {},
   "source": [
    "You should get values close to:<br />\n",
    "State values:<br />\n",
    "\\[0.82352773 0.82352718  0.8235268 0.8235266 0.8235279 0.<br />\n",
    "0.52941062 0.         0.82352816 0.8235285 0.76470509 0.<br />0.         0.88235231 0.94117615 0.\\]"
   ]
  },
  {
   "cell_type": "code",
   "execution_count": 11,
   "metadata": {},
   "outputs": [],
   "source": [
    "#Uncomment and run the following to evaluate your result, comment them when you generate the pdf\n",
    "# Q = action_evaluation(env = env.env, gamma = 1, v = V)\n",
    "# policy_estimate = action_selection(Q)\n",
    "# render(env, policy_estimate)"
   ]
  },
  {
   "cell_type": "markdown",
   "metadata": {},
   "source": [
    "### 3.3 Model free RL algorithms"
   ]
  },
  {
   "cell_type": "markdown",
   "metadata": {},
   "source": [
    "### 3.3.1 Q-Learning\n",
    "Edit the function QLearning in ./RLalgs/ql.py to implement the Q-Learning Algorithm.<br />\n",
    "<span style=\"color:red\">(10 pts)</span>"
   ]
  },
  {
   "cell_type": "code",
   "execution_count": 12,
   "metadata": {},
   "outputs": [
    {
     "name": "stdout",
     "output_type": "stream",
     "text": [
      "Action values:\n",
      "[[0.56847841 0.45143216 0.48040944 0.40579652]\n",
      " [0.00346183 0.25712485 0.         0.0911148 ]\n",
      " [0.26968876 0.06140907 0.05103773 0.05486191]\n",
      " [0.00766047 0.00288007 0.         0.04905045]\n",
      " [0.57303626 0.3349405  0.31415295 0.41007037]\n",
      " [0.         0.         0.         0.        ]\n",
      " [0.25770558 0.         0.         0.00301399]\n",
      " [0.         0.         0.         0.        ]\n",
      " [0.31850157 0.20854625 0.33403122 0.58518182]\n",
      " [0.25121089 0.5888725  0.27468913 0.24519182]\n",
      " [0.47168168 0.25538497 0.21979723 0.09368808]\n",
      " [0.         0.         0.         0.        ]\n",
      " [0.         0.         0.         0.        ]\n",
      " [0.12959867 0.35053343 0.69721912 0.34409052]\n",
      " [0.37136362 0.50521028 0.83852264 0.31444075]\n",
      " [0.         0.         0.         0.        ]]\n"
     ]
    }
   ],
   "source": [
    "from RLalgs.ql import QLearning\n",
    "Q = QLearning(env = env.env, num_episodes = 1000, gamma = 1, lr = 0.1, e = 0.1)\n",
    "print('Action values:')\n",
    "print(Q)"
   ]
  },
  {
   "cell_type": "markdown",
   "metadata": {},
   "source": [
    "Generally, you should get non-zero action values on non-terminal states."
   ]
  },
  {
   "cell_type": "code",
   "execution_count": 13,
   "metadata": {},
   "outputs": [
    {
     "name": "stdout",
     "output_type": "stream",
     "text": [
      "[0 1 0 3 0 0 0 0 3 1 0 0 0 2 2 0]\n"
     ]
    }
   ],
   "source": [
    "#Uncomment the following to evaluate your result, comment them when you generate the pdf\n",
    "env = gym.make('FrozenLake-v0')\n",
    "policy_estimate = action_selection(Q)\n",
    "print(policy_estimate)\n",
    "#render(env, policy_estimate)"
   ]
  },
  {
   "cell_type": "markdown",
   "metadata": {},
   "source": [
    "### 3.3.2 SARSA\n",
    "Edit the function SARSA in ./RLalgs/sarsa.py to implement the SARSA Algorithm.<br />\n",
    "<span style=\"color:red\">(10 pts)</span>"
   ]
  },
  {
   "cell_type": "code",
   "execution_count": 14,
   "metadata": {},
   "outputs": [
    {
     "name": "stdout",
     "output_type": "stream",
     "text": [
      "Action values:\n",
      "[[5.61454321e-02 6.42643342e-02 6.31032800e-02 7.25160919e-02]\n",
      " [5.67195651e-02 4.86841163e-02 4.28892706e-02 8.23094105e-02]\n",
      " [8.64071947e-02 7.41131471e-02 8.02013865e-02 6.85302851e-02]\n",
      " [6.30912344e-02 1.81075192e-02 5.62901307e-03 3.33441707e-04]\n",
      " [9.78102355e-03 7.18825329e-03 1.16403347e-02 2.92668759e-02]\n",
      " [0.00000000e+00 0.00000000e+00 0.00000000e+00 0.00000000e+00]\n",
      " [6.88530124e-02 5.76600957e-02 9.88703873e-02 2.26295307e-02]\n",
      " [0.00000000e+00 0.00000000e+00 0.00000000e+00 0.00000000e+00]\n",
      " [0.00000000e+00 2.08444848e-02 0.00000000e+00 0.00000000e+00]\n",
      " [4.49525267e-02 3.13620867e-02 7.73854088e-02 0.00000000e+00]\n",
      " [1.73944757e-01 2.29883645e-01 1.13868776e-01 2.28694676e-02]\n",
      " [0.00000000e+00 0.00000000e+00 0.00000000e+00 0.00000000e+00]\n",
      " [0.00000000e+00 0.00000000e+00 0.00000000e+00 0.00000000e+00]\n",
      " [1.38127884e-02 3.00619518e-01 1.01560465e-01 8.00620121e-02]\n",
      " [2.51702637e-01 7.27214121e-01 2.16262739e-01 2.12003654e-01]\n",
      " [0.00000000e+00 0.00000000e+00 0.00000000e+00 0.00000000e+00]]\n"
     ]
    }
   ],
   "source": [
    "from RLalgs.sarsa import SARSA\n",
    "Q = SARSA(env = env.env, num_episodes = 1000, gamma = 1, lr = 0.1, e = 0.1)\n",
    "print('Action values:')\n",
    "print(Q)"
   ]
  },
  {
   "cell_type": "markdown",
   "metadata": {},
   "source": [
    "Generally, you should get non-zero action values on non-terminal states."
   ]
  },
  {
   "cell_type": "code",
   "execution_count": null,
   "metadata": {},
   "outputs": [],
   "source": [
    "#Uncomment the following to evaluate your result, comment them when you generate the pdf\n",
    "#env = gym.make('FrozenLake-v0')\n",
    "#policy_estimate = action_selection(Q)\n",
    "#render(env, policy_estimate)"
   ]
  },
  {
   "cell_type": "markdown",
   "metadata": {},
   "source": [
    "### 3.4 Human\n",
    "You can play this game if you are interested. See if you can get the frisbee either with or without the model."
   ]
  },
  {
   "cell_type": "code",
   "execution_count": 16,
   "metadata": {},
   "outputs": [],
   "source": [
    "from RLalgs.utils import human_play\n",
    "#Uncomment and run the following to play the game, comment it when you generate the pdf\n",
    "# env = gym.make('FrozenLake-v0')\n",
    "# human_play(env)"
   ]
  }
 ],
 "metadata": {
  "kernelspec": {
   "display_name": "Python 3",
   "language": "python",
   "name": "python3"
  },
  "language_info": {
   "codemirror_mode": {
    "name": "ipython",
    "version": 3
   },
   "file_extension": ".py",
   "mimetype": "text/x-python",
   "name": "python",
   "nbconvert_exporter": "python",
   "pygments_lexer": "ipython3",
   "version": "3.6.5"
  }
 },
 "nbformat": 4,
 "nbformat_minor": 2
}
